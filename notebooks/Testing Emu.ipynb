{
 "cells": [
  {
   "cell_type": "code",
   "execution_count": 1,
   "metadata": {},
   "outputs": [
    {
     "ename": "ModuleNotFoundError",
     "evalue": "No module named 'classy'",
     "output_type": "error",
     "traceback": [
      "\u001b[0;31m---------------------------------------------------------------------------\u001b[0m",
      "\u001b[0;31mModuleNotFoundError\u001b[0m                       Traceback (most recent call last)",
      "\u001b[0;32m<ipython-input-1-b2f0a561a6b2>\u001b[0m in \u001b[0;36m<module>\u001b[0;34m\u001b[0m\n\u001b[1;32m      1\u001b[0m \u001b[0;32mimport\u001b[0m \u001b[0mnumpy\u001b[0m \u001b[0;32mas\u001b[0m \u001b[0mnp\u001b[0m\u001b[0;34m\u001b[0m\u001b[0;34m\u001b[0m\u001b[0m\n\u001b[0;32m----> 2\u001b[0;31m \u001b[0;32mfrom\u001b[0m \u001b[0mclassy\u001b[0m \u001b[0;32mimport\u001b[0m \u001b[0mClass\u001b[0m\u001b[0;34m\u001b[0m\u001b[0;34m\u001b[0m\u001b[0m\n\u001b[0m\u001b[1;32m      3\u001b[0m \u001b[0;32mimport\u001b[0m \u001b[0mmatplotlib\u001b[0m\u001b[0;34m.\u001b[0m\u001b[0mpyplot\u001b[0m \u001b[0;32mas\u001b[0m \u001b[0mplt\u001b[0m\u001b[0;34m\u001b[0m\u001b[0;34m\u001b[0m\u001b[0m\n\u001b[1;32m      4\u001b[0m \u001b[0;34m\u001b[0m\u001b[0m\n\u001b[1;32m      5\u001b[0m \u001b[0mbd\u001b[0m \u001b[0;34m=\u001b[0m \u001b[0;34m'/global/home/users/nsailer/BOSS_Planck_DMDR/emulators/'\u001b[0m\u001b[0;34m\u001b[0m\u001b[0;34m\u001b[0m\u001b[0m\n",
      "\u001b[0;31mModuleNotFoundError\u001b[0m: No module named 'classy'"
     ]
    }
   ],
   "source": [
    "import numpy as np\n",
    "from classy import Class\n",
    "import matplotlib.pyplot as plt\n",
    "\n",
    "bd = '/global/home/users/nsailer/BOSS_Planck_DMDR/emulators/'\n",
    "\n",
    "import sys\n",
    "sys.path.append(bd + 'PyLimpse/src/')\n",
    "sys.path.append(bd + 'PyCapse/src')\n",
    "import PyLimpse\n",
    "import PyCapse"
   ]
  },
  {
   "cell_type": "code",
   "execution_count": 2,
   "metadata": {},
   "outputs": [],
   "source": [
    "pars = [2.10732e-9, 0.96824, 0.677, 0.02247, 0.11923, 0.1, 1e9]"
   ]
  },
  {
   "cell_type": "code",
   "execution_count": 3,
   "metadata": {},
   "outputs": [
    {
     "name": "stdout",
     "output_type": "stream",
     "text": [
      "[3.04800209 0.96824    0.677      0.02247    0.11923    0.1\n",
      " 9.        ]\n"
     ]
    }
   ],
   "source": [
    "input_test = np.array(pars)\n",
    "input_test[0] = np.log(input_test[0]*1e10)\n",
    "input_test[-1] = np.log10(input_test[-1])\n",
    "#input_test = np.array([6.30, 3.46, 0.76, 0.021, 0.11, 0.3, 6.0])\n",
    "print(input_test)"
   ]
  },
  {
   "cell_type": "code",
   "execution_count": 4,
   "metadata": {},
   "outputs": [],
   "source": [
    "Pk_emu = PyLimpse.load_emu('/home/noah/Downloads/emulator_Pk_cb_n4_hubble.bson')"
   ]
  },
  {
   "cell_type": "code",
   "execution_count": 5,
   "metadata": {},
   "outputs": [],
   "source": [
    "Pk_emu2 = PyLimpse.load_emu('/home/noah/Downloads/emulator_Pk_cb_n4_hubble_v2.bson')"
   ]
  },
  {
   "cell_type": "code",
   "execution_count": 6,
   "metadata": {},
   "outputs": [],
   "source": [
    "k = Pk_emu.kgrid\n",
    "Pk = PyLimpse.compute_Pk(input_test, Pk_emu)"
   ]
  },
  {
   "cell_type": "code",
   "execution_count": 7,
   "metadata": {},
   "outputs": [],
   "source": [
    "k2 = Pk_emu2.kgrid\n",
    "Pk2 = PyLimpse.compute_Pk(input_test, Pk_emu2)"
   ]
  },
  {
   "cell_type": "code",
   "execution_count": 8,
   "metadata": {},
   "outputs": [],
   "source": [
    "A_s, n_s, h, omega_b, omega_cdm, xi_idr, a_dark = pars\n",
    "tau_reio = 0.06\n",
    "'''\n",
    "pkparams = {\n",
    "        'output': 'tCl pCl lCl mPk',\n",
    "        'l_max_scalars': 3000,\n",
    "        'P_k_max_h/Mpc': 20.,\n",
    "        'lensing': 'yes',\n",
    "        'A_s': A_s,\n",
    "        'n_s': n_s,\n",
    "        'h': h,\n",
    "        'N_ur': 2.0328,\n",
    "        'N_ncdm': 1,\n",
    "        'm_ncdm': '0.06',\n",
    "        'tau_reio': tau_reio,\n",
    "        'omega_b': omega_b,\n",
    "        'omega_cdm': omega_cdm,\n",
    "        'a_idm_dr': a_dark,\n",
    "        'xi_idr': xi_idr,\n",
    "        'nindex_idm_dr': 4,\n",
    "        'f_idm': 1}\n",
    "'''\n",
    "\n",
    "pkparams = {\n",
    "    \"A_s\": A_s,\n",
    "    \"n_s\"  : n_s,\n",
    "    \"h\"  : h,\n",
    "    \"omega_b\"  : omega_b,\n",
    "    \"omega_cdm\"  : omega_cdm,\n",
    "    'tau_reio': tau_reio,\n",
    "    'f_idm': 1.0,\n",
    "    'xi_idr' : xi_idr,\n",
    "    'm_idm': 1e9,\n",
    "    'stat_f_idr': 0.875,\n",
    "    'a_idm_dr': a_dark,\n",
    "    'nindex_idm_dr': 4,\n",
    "    'idr_nature': 'free_streaming',\n",
    "    'N_ur': 2.0328,\n",
    "    'N_ncdm' :  1,\n",
    "    'm_ncdm' : 0.06,\n",
    "    'output':'tCl,pCl,lCl,mPk',\n",
    "    'lensing':'yes',\n",
    "    'P_k_max_h/Mpc': 20.}\n",
    "\n",
    "pkclass = Class()\n",
    "pkclass.set(pkparams)\n",
    "pkclass.compute()\n",
    "\n",
    "pclass = np.array( [pkclass.pk_cb_lin(kk*h, 0 ) * h**3 for kk in k] )"
   ]
  },
  {
   "cell_type": "code",
   "execution_count": 9,
   "metadata": {},
   "outputs": [
    {
     "data": {
      "text/plain": [
       "<matplotlib.legend.Legend at 0x7f56a3ec1be0>"
      ]
     },
     "execution_count": 9,
     "metadata": {},
     "output_type": "execute_result"
    },
    {
     "data": {
      "image/png": "[encoded data removed]",
      "text/plain": [
       "<Figure size 432x288 with 1 Axes>"
      ]
     },
     "metadata": {
      "needs_background": "light"
     },
     "output_type": "display_data"
    }
   ],
   "source": [
    "plt.semilogx(k,np.array(Pk)/pclass,label='old emu')\n",
    "plt.semilogx(k2,np.array(Pk2)/pclass,label='new emu')\n",
    "plt.ylim(0.99,1.01)\n",
    "plt.title(r'$\\xi=0.1,\\,a=10^9,\\,n=4$')\n",
    "plt.xlabel(r'$k\\,\\,[h\\,{Mpc}^{-1}]$')\n",
    "plt.ylabel(r'$P^{Emu} / P^{CLASS}$')\n",
    "plt.legend()"
   ]
  },
  {
   "cell_type": "markdown",
   "metadata": {},
   "source": [
    "# Pointless code below -------------------------------------------------------"
   ]
  },
  {
   "cell_type": "code",
   "execution_count": null,
   "metadata": {},
   "outputs": [],
   "source": []
  },
  {
   "cell_type": "code",
   "execution_count": null,
   "metadata": {},
   "outputs": [],
   "source": []
  },
  {
   "cell_type": "code",
   "execution_count": null,
   "metadata": {},
   "outputs": [],
   "source": []
  },
  {
   "cell_type": "code",
   "execution_count": null,
   "metadata": {},
   "outputs": [],
   "source": []
  },
  {
   "cell_type": "code",
   "execution_count": null,
   "metadata": {},
   "outputs": [],
   "source": []
  },
  {
   "cell_type": "code",
   "execution_count": null,
   "metadata": {},
   "outputs": [],
   "source": []
  },
  {
   "cell_type": "code",
   "execution_count": null,
   "metadata": {},
   "outputs": [],
   "source": []
  },
  {
   "cell_type": "code",
   "execution_count": null,
   "metadata": {},
   "outputs": [],
   "source": []
  },
  {
   "cell_type": "code",
   "execution_count": null,
   "metadata": {},
   "outputs": [],
   "source": []
  },
  {
   "cell_type": "code",
   "execution_count": null,
   "metadata": {},
   "outputs": [],
   "source": []
  },
  {
   "cell_type": "code",
   "execution_count": null,
   "metadata": {},
   "outputs": [],
   "source": []
  },
  {
   "cell_type": "code",
   "execution_count": null,
   "metadata": {},
   "outputs": [],
   "source": []
  },
  {
   "cell_type": "code",
   "execution_count": null,
   "metadata": {},
   "outputs": [],
   "source": []
  },
  {
   "cell_type": "code",
   "execution_count": null,
   "metadata": {},
   "outputs": [],
   "source": []
  },
  {
   "cell_type": "code",
   "execution_count": null,
   "metadata": {},
   "outputs": [],
   "source": []
  },
  {
   "cell_type": "code",
   "execution_count": null,
   "metadata": {},
   "outputs": [],
   "source": []
  },
  {
   "cell_type": "code",
   "execution_count": 2,
   "metadata": {},
   "outputs": [],
   "source": [
    "#pars = [2.10732e-9, 0.96824, 0.677, 0.02247, 0.11923, 0.0568, 0.1, 1e9]\n",
    "pars = [2.10732e-9, 0.96824, 0.6, 0.02247, 0.11923, 0.0568, 0.1, 1e9]"
   ]
  },
  {
   "cell_type": "code",
   "execution_count": 3,
   "metadata": {},
   "outputs": [
    {
     "name": "stdout",
     "output_type": "stream",
     "text": [
      "[3.04800209 0.96824    0.6        0.02247    0.11923    0.0568\n",
      " 0.1        9.        ]\n"
     ]
    }
   ],
   "source": [
    "input_test = np.array(pars)\n",
    "input_test[0] = np.log(input_test[0]*1e10)\n",
    "input_test[-1] = np.log10(input_test[-1])\n",
    "print(input_test)"
   ]
  },
  {
   "cell_type": "code",
   "execution_count": 4,
   "metadata": {},
   "outputs": [],
   "source": [
    "Pk_emu = PyLimpse.load_emu('/home/noah/Downloads/emulator_Pk_cb_n4_hubble_v2.bson')\n",
    "Cltt, Clee, Clte, Clpp = PyCapse.load_emu('/home/noah/Downloads/emulators_Planck_idm_dr_n4_nonlinear_halofit.bson')"
   ]
  },
  {
   "cell_type": "markdown",
   "metadata": {},
   "source": [
    "### Emulated power spectrum"
   ]
  },
  {
   "cell_type": "code",
   "execution_count": 5,
   "metadata": {},
   "outputs": [],
   "source": [
    "k = Pk_emu.kgrid\n",
    "Pk = PyLimpse.compute_Pk(input_test, Pk_emu)"
   ]
  },
  {
   "cell_type": "code",
   "execution_count": 6,
   "metadata": {},
   "outputs": [],
   "source": [
    "ClTT = PyCapse.compute_Cl(input_test, Cltt)\n",
    "ClEE = PyCapse.compute_Cl(input_test, Clee)\n",
    "ClTE = PyCapse.compute_Cl(input_test, Clte)\n",
    "ClPP = PyCapse.compute_Cl(input_test, Clpp)"
   ]
  },
  {
   "cell_type": "markdown",
   "metadata": {},
   "source": [
    "### Power spectrum from CLASS"
   ]
  },
  {
   "cell_type": "code",
   "execution_count": 7,
   "metadata": {},
   "outputs": [],
   "source": [
    "A_s, n_s, h, omega_b, omega_cdm, tau_reio, xi_idr, a_dark = pars\n",
    "'''\n",
    "pkparams = {\n",
    "        'output': 'tCl pCl lCl mPk',\n",
    "        'l_max_scalars': 3000,\n",
    "        'P_k_max_h/Mpc': 20.,\n",
    "        'lensing': 'yes',\n",
    "        'A_s': A_s,\n",
    "        'n_s': n_s,\n",
    "        'h': h,\n",
    "        'N_ur': 2.0328,\n",
    "        'N_ncdm': 1,\n",
    "        'm_ncdm': '0.06',\n",
    "        'tau_reio': tau_reio,\n",
    "        'omega_b': omega_b,\n",
    "        'omega_cdm': omega_cdm,\n",
    "        'a_idm_dr': a_dark,\n",
    "        'xi_idr': xi_idr,\n",
    "        'nindex_idm_dr': 4,\n",
    "        'f_idm': 1}\n",
    "'''\n",
    "\n",
    "pkparams = {\n",
    "    \"A_s\": A_s,\n",
    "    \"n_s\"  : n_s,\n",
    "    \"h\"  : h,\n",
    "    \"omega_b\"  : omega_b,\n",
    "    \"omega_cdm\"  : omega_cdm,\n",
    "    'tau_reio': tau_reio,\n",
    "    'f_idm': 1.0,\n",
    "    'xi_idr' : xi_idr,\n",
    "    'm_idm': 1e9,\n",
    "    'stat_f_idr': 0.875,\n",
    "    'a_idm_dr': a_dark,\n",
    "    'nindex_idm_dr': 4,\n",
    "    'idr_nature': 'free_streaming',\n",
    "    'N_ur': 2.0328,\n",
    "    'N_ncdm' :  1,\n",
    "    'm_ncdm' : 0.06,\n",
    "    'output':'tCl,pCl,lCl,mPk',\n",
    "    'lensing':'yes',\n",
    "    'P_k_max_h/Mpc': 20.}\n",
    "\n",
    "pkclass = Class()\n",
    "pkclass.set(pkparams)\n",
    "pkclass.compute()\n",
    "\n",
    "pclass = np.array( [pkclass.pk_cb_lin(kk*h, 0 ) * h**3 for kk in k] )"
   ]
  },
  {
   "cell_type": "markdown",
   "metadata": {},
   "source": [
    "### Comparing the two"
   ]
  },
  {
   "cell_type": "code",
   "execution_count": 10,
   "metadata": {},
   "outputs": [
    {
     "data": {
      "text/plain": [
       "Text(0, 0.5, '$P^{Emu} / P^{CLASS}$')"
      ]
     },
     "execution_count": 10,
     "metadata": {},
     "output_type": "execute_result"
    },
    {
     "data": {
      "image/png": "[encoded data removed]",
      "text/plain": [
       "<Figure size 432x288 with 1 Axes>"
      ]
     },
     "metadata": {
      "needs_background": "light"
     },
     "output_type": "display_data"
    }
   ],
   "source": [
    "plt.semilogx(k,np.array(Pk) * h**(n_s-1)/pclass)\n",
    "plt.ylim(0.95,1.05)\n",
    "plt.title(r'$\\xi=0.1,\\,a=10^9,\\,n=4$')\n",
    "plt.xlabel(r'$k\\,\\,[h\\,{Mpc}^{-1}]$')\n",
    "plt.ylabel(r'$P^{Emu} / P^{CLASS}$')"
   ]
  },
  {
   "cell_type": "code",
   "execution_count": null,
   "metadata": {},
   "outputs": [],
   "source": []
  },
  {
   "cell_type": "code",
   "execution_count": null,
   "metadata": {},
   "outputs": [],
   "source": []
  },
  {
   "cell_type": "code",
   "execution_count": 9,
   "metadata": {},
   "outputs": [],
   "source": [
    "cls = pkclass.lensed_cl(2508)"
   ]
  },
  {
   "cell_type": "code",
   "execution_count": 10,
   "metadata": {},
   "outputs": [
    {
     "data": {
      "text/plain": [
       "<matplotlib.legend.Legend at 0x7fbef434ad90>"
      ]
     },
     "execution_count": 10,
     "metadata": {},
     "output_type": "execute_result"
    },
    {
     "data": {
      "image/png": "[encoded data removed]",
      "text/plain": [
       "<Figure size 432x288 with 1 Axes>"
      ]
     },
     "metadata": {
      "needs_background": "light"
     },
     "output_type": "display_data"
    }
   ],
   "source": [
    "l = np.arange(2,2509)\n",
    "l2 = np.arange(2,1997)\n",
    "\n",
    "ratio = ClTT/cls['tt'][2:]\n",
    "plt.plot(l,ratio,label='$C^{TT}$')\n",
    "\n",
    "ratio = ClEE/cls['ee'][2:1997]\n",
    "plt.plot(l2,ratio,label='$C^{EE}$')\n",
    "\n",
    "ratio = ClPP/cls['pp'][2:]\n",
    "plt.plot(l,ratio,label='$C^{\\phi\\phi}$')\n",
    "\n",
    "plt.xlabel(r'$\\ell$')\n",
    "plt.ylabel(r'Emu / CLASS')\n",
    "plt.xlim(-10,2500)\n",
    "plt.title(r'$\\xi=10^{-3},\\,a=9,\\,n=4$')\n",
    "plt.legend()"
   ]
  },
  {
   "cell_type": "code",
   "execution_count": null,
   "metadata": {},
   "outputs": [],
   "source": []
  }
 ],
 "metadata": {
  "kernelspec": {
   "display_name": "Python 3",
   "language": "python",
   "name": "python3"
  },
  "language_info": {
   "codemirror_mode": {
    "name": "ipython",
    "version": 3
   },
   "file_extension": ".py",
   "mimetype": "text/x-python",
   "name": "python",
   "nbconvert_exporter": "python",
   "pygments_lexer": "ipython3",
   "version": "3.7.4"
  }
 },
 "nbformat": 4,
 "nbformat_minor": 4
}
